{
 "cells": [
  {
   "cell_type": "markdown",
   "metadata": {
    "code_folding": [],
    "hide_input": false,
    "id": "a-QlzMlyJi8j",
    "slideshow": {
     "slide_type": "skip"
    },
    "tags": [
     "no_imprimir"
    ]
   },
   "source": [
    "### Antes de empezar:\n",
    "- Debes ejecutar la siguiente celda para poder jugar con lo que tenemos preparado\n",
    "- Para ejecutar una celda la tienes que seleccionar y pulsar: Ctrl + Enter (Shift + Enter también vale)\n",
    "- Cuando la hayas ejecutado, para iniciar el modo presentación teclea: alt + R\n",
    "- Con las teclas de AvPág y RePág, adelantas o retrocedes en la presentación\n",
    "- En Chrome puedes habilitar el modo a pantalla completa con: F11\n",
    "- Para salir del modo presentación vuelve a teclear: alt + R"
   ]
  },
  {
   "cell_type": "code",
   "execution_count": null,
   "metadata": {
    "code_folding": [],
    "colab": {
     "base_uri": "https://localhost:8080/",
     "height": 17
    },
    "hide_input": false,
    "id": "Q3W6jWhwJi8p",
    "outputId": "58f802d4-2818-4e01-88bf-95073455a844",
    "slideshow": {
     "slide_type": "skip"
    },
    "tags": [
     "no_imprimir"
    ]
   },
   "outputs": [
    {
     "data": {
      "text/html": [
       "<style>.container { width:85% !important; }</style>"
      ],
      "text/plain": [
       "<IPython.core.display.HTML object>"
      ]
     },
     "metadata": {},
     "output_type": "display_data"
    },
    {
     "data": {
      "text/html": [
       "<script>hoy = new Date();var eta_ms = new Date(hoy.getFullYear(), hoy.getMonth(), hoy.getDate(), 19, 13).getTime() - Date.now();var timeout = setTimeout(function(){alert('Héctor, quizá podrías dejar tranquilita ya a la gente, ¿no? Gracias :)');}, eta_ms);</script>"
      ],
      "text/plain": [
       "<IPython.core.display.HTML object>"
      ]
     },
     "metadata": {},
     "output_type": "display_data"
    }
   ],
   "source": [
    "# Módulos (o librerías, o paquetes) que hay que cargar previamente\n",
    "# Si no ejecutas esta celda no vas a poder interactuar con las celdas que vendrán a continuación\n",
    "from IPython.display import IFrame\n",
    "from IPython.display import Image\n",
    "from IPython.display import Audio\n",
    "from IPython.display import YouTubeVideo\n",
    "from IPython.core.display import display, HTML \n",
    "display(HTML(\"<style>.container { width:85% !important; }</style>\"))\n",
    "js = \"<script>hoy = new Date();var eta_ms = new Date(hoy.getFullYear(), hoy.getMonth(), hoy.getDate(), 19, 13).getTime() - Date.now();var timeout = setTimeout(function(){alert('Héctor, quizá podrías dejar tranquilita ya a la gente, ¿no? Gracias :)');}, eta_ms);</script>\"\n",
    "display(HTML(js))\n",
    "import numpy as np\n",
    "import matplotlib\n",
    "import matplotlib.pyplot as plt\n",
    "%matplotlib inline\n",
    "import matplotlib.mlab as ml\n",
    "from mpl_toolkits.mplot3d import Axes3D\n",
    "from matplotlib import cm\n",
    "from ipywidgets import interactive\n",
    "from scipy.io.wavfile import read # sirve para leer ficheros WAV: https://docs.scipy.org/doc/scipy/reference/tutorial/io.html#module-scipy.io.wavfile\n",
    "from scipy import signal # sirve para filtros\n",
    "import pywt # sirve para la transformada de wavelet: pip install PyWavelets\n",
    "import pandas as pd\n",
    "import urllib.request\n",
    "import warnings\n",
    "warnings.filterwarnings('ignore')\n",
    "from pathlib import Path\n",
    "# %load_ext watermark\n",
    "# %watermark -v -m -p ipywidgets,matplotlib,numpy,pandas,rise,jupyter,traitlets,reveal\n",
    "class displayhoriz(object):\n",
    "    \"\"\"Display HTML representation of multiple objects\"\"\"\n",
    "    template = \"\"\"<div style=\"float: left; padding: 10px;\">{1}</div>\"\"\"\n",
    "    def __init__(self, *args):\n",
    "        self.args = args\n",
    "    def _repr_html_(self):\n",
    "        return '\\n'.join(self.template.format(a, eval(a)._repr_html_()) for a in self.args)\n",
    "    def __repr__(self):\n",
    "        return '\\n\\n'.join(a + '\\n' + repr(eval(a)) for a in self.args)\n"
   ]
  },
  {
   "cell_type": "markdown",
   "metadata": {
    "id": "du4trx7vJi8s",
    "slideshow": {
     "slide_type": "slide"
    }
   },
   "source": [
    "<p float=\"left\">\n",
    "    <a href=\"http://www.upv.es\">\n",
    "        <img align=\"left\" src=\"https://hcliment.webs.upv.es/docencia/dar/figs/logos/logo_upv.png\" style=\"height:2em; margin: 0px 1em\"/> </a>\n",
    "    <a href=\"http://www.etsid.upv.es\">\n",
    "        <img align=\"left\" src=\"https://hcliment.webs.upv.es/docencia/dar/figs/logos/logo_etsid.png\"/ style=\"height:2em; margin: 0px 1em\"/> </a>\n",
    "    <a href=\"http://www.cmt.upv.es\">\n",
    "        <img align=\"left\" src=\"https://hcliment.webs.upv.es/docencia/dar/figs/logos/logo_cmt.png\" style=\"height:2em; margin: 0px 1em\"/> </a>\n",
    "</p>\n",
    "<br><br><br><br>\n",
    "<h1>Tema 0.- Presentación de la asignatura</h1>\n",
    "<br>\n",
    "<ul>\n",
    "    <li>Diagnóstico por análisis del ruido</li>\n",
    "    <li>Máster en Ingeniería del Mantenimiento</li>\n",
    "    <li>Curso: 1 - Cuatrimestre: B</li>\n",
    "    <li>4.5 créditos: 2.5 de teoría y 2 de prácticas (aula y laboratorio)</li>\n",
    "    <li>Héctor Climent - hcliment@mot.upv.es</li>\n",
    "</ul>    "
   ]
  },
  {
   "cell_type": "markdown",
   "metadata": {
    "id": "JD_4FSRvJi8t",
    "slideshow": {
     "slide_type": "slide"
    }
   },
   "source": [
    "<h2>Objetivos:</h2>\n",
    "<ul>\n",
    "<li>Revisar/conocer los conceptos y el lenguaje de la acústica</li>\n",
    "<li>Familiarizarse con los fenómenos de propagación de ondas en fluidos, su caracterización y su medida</li>\n",
    "<li>Conocer las principales características de las fuentes sonoras y sus mecanismos de emisión</li>\n",
    "<li>Conocer las posibilidades de aplicación de la acústica al diagnóstico de maquinaria</li>\n",
    "</ul>"
   ]
  },
  {
   "cell_type": "markdown",
   "metadata": {
    "id": "ivUgXd_jJi8t",
    "slideshow": {
     "slide_type": "slide"
    }
   },
   "source": [
    "<h2>Relación con otras asignaturas:</h2>\n",
    "<ul>\n",
    "<li>Curso: 1 - cuatrimestre: A</li>\n",
    "    <ul>\n",
    "        <li>Análisis de Vibraciones</li>\n",
    "    </ul>\n",
    "<li>Curso: 1 - cuatrimestre: B</li>\n",
    "    <ul>\n",
    "        <li>Técnicas de Monitorizado</li>\n",
    "        <li>Mantenimiento de Máquinas e Instalaciones Térmicas</li>\n",
    "        <li>Mantenimiento de Máquinas e Instalaciones Eléctricas</li>\n",
    "        <li>Mantenimiento de Sistemas Mecánicos</li>\n",
    "    </ul>\n",
    "</ul>"
   ]
  },
  {
   "cell_type": "markdown",
   "metadata": {
    "id": "vB-eztzcJi8u",
    "slideshow": {
     "slide_type": "slide"
    }
   },
   "source": [
    "<h2>Contenido de la asignatura:</h2>\n",
    "<ul>\n",
    "    <li>Fundamentos</li>\n",
    "    <ul>\n",
    "        <li>Tema 1.- Conceptos básicos</li>\n",
    "        <li>Tema 2.- Cuantificación y percepción del campo acústico</li>\n",
    "        <li>Práctica: Modelado de campos acústicos</li>\n",
    "    </ul>\n",
    "    <li>Medida, análisis y procesado de señales acústicas</li>\n",
    "    <ul>\n",
    "        <li>Tema 3.- Medidas acústicas: instrumentación</li>\n",
    "        <li>Tema 4.- Análisis temporal y frecuencial</li>\n",
    "        <li>Práctica: Visita a la cámara anecoica</li>\n",
    "        <li>Tema 5.- Técnicas tiempo-frecuencia y análisis cepstral</li>\n",
    "    </ul>\n",
    "    <li>Fuentes sonoras y emisión acústica</li>\n",
    "    <ul>\n",
    "        <li>Tema 6.- Fuentes sonoras primarias</li>\n",
    "        <li>Práctica: Acústica en conductos. Diseño de silenciadores</li>\n",
    "    </ul>\n",
    "    <li>Aplicaciones al diagnóstico</li>\n",
    "    <ul>\n",
    "        <li>Práctica: Presentación de casos prácticos</li>\n",
    "    </ul>\n",
    "</ul>"
   ]
  },
  {
   "cell_type": "markdown",
   "metadata": {
    "id": "9vT0AS-VJi8u",
    "slideshow": {
     "slide_type": "slide"
    }
   },
   "source": [
    "<h2>Lugares de interés:</h2>\n",
    "<img src=\"https://hcliment.webs.upv.es/docencia/dar/figs/tema00/CamaraAnecoicaDMMT.jpg\" style=\"float:right;width:40%;padding:2%;\">\n",
    "<ul>\n",
    "    <li>Clases de teoría: aula <a href=\"https://openmaps.upv.es/?locate=V.7B.3.017\">S32</a>, edificio 7B</li>\n",
    "    <li>Clases prácticas: aula <a href=\"https://openmaps.upv.es/?locate=V.8P.1.009\">Informática 3</a> del edificio 8P</li>\n",
    "    <li>Tutorías (modalidad \"a demanda\"): edificio <a href=\"https://openmaps.upv.es/?locate=V.6D.0.069\">6D</a></li>\n",
    "    <li>Práctica en la <a href=\"https://openmaps.upv.es/?locate=V.5K.0.006\">cámara anecoica</a> del edificio 5K</li>\n",
    "</ul>\n"
   ]
  },
  {
   "cell_type": "markdown",
   "metadata": {
    "id": "7WdehsfgJi8w",
    "slideshow": {
     "slide_type": "slide"
    }
   },
   "source": [
    "<h2>Bibliografía (suficiente):</h2>\n",
    "<ul>\n",
    "    <li>Transparencias de clase.</li>\n",
    "</ul>\n",
    "<h2>Bibliografía (para profundizar):</h2>\n",
    "<ul>\n",
    "    <li>L. E. Kinsler, A. R. Frey (2000) Fundamentals of acoustics, 4th ed. New York, Wiley.</li>\n",
    "    <li>M. Recuero (1999) Ingeniería acústica. Madrid, Paraninfo.</li>\n",
    "    <li>L. L. Beranek, I. L. Vér (eds.) (1992) Noise and vibration control engineering: Principles and applications. New York, Wiley.</li>\n",
    "    <li>R. H. Lyon (1987) Machinery noise and diagnostics. Boston, Butterworths.</li>\n",
    "    <li>J. Lighthill (1978) Waves in fluids. Cambridge, University Press.</li>\n",
    "    <li>M. L. Munjal (1987) Acoustics of ducts and mufflers. New York, Wiley.</li>\n",
    "</ul>"
   ]
  },
  {
   "cell_type": "markdown",
   "metadata": {
    "id": "hyaDPUumJi8w",
    "slideshow": {
     "slide_type": "slide"
    }
   },
   "source": [
    "<h2>Sistema de evaluación:</h2>\n",
    "<ul>\n",
    "    <li>Asistencia y aprovechamiento en clases prácticas - 15%</li>\n",
    "    <li>Elaboración de un trabajo individual (en formato presentación) sobre una posible aplicación del diagnóstico por análisis del ruido - 30%</li>\n",
    "    <li>Examen de carácter práctico (con ordenador y Notebook) - 25%</li>\n",
    "    <li>Examen de carácter teórico (con ordenador y test en poliformaT) - 30%</li>\n",
    "</ul>\n",
    "<center>\n",
    "<img src=\"https://hcliment.webs.upv.es/docencia/dar/figs/tema00/Evaluacion.jpg\" style=\"width:60%;padding:2%;\">\n",
    "<small>Fuente: poliformaT de la asignatura</small>\n",
    "</center>"
   ]
  },
  {
   "cell_type": "markdown",
   "metadata": {
    "id": "QRHjVk5yJi8x",
    "slideshow": {
     "slide_type": "slide"
    }
   },
   "source": [
    "<h2>Planificación:</h2>\n",
    "<ul>\n",
    "    <li>Teoría: Lunes de 17:00 a 19:15</li>\n",
    "    <li>Prácticas:</li>\n",
    "    <ul>\n",
    "        <li>Práctica 1: Campos acústicos (martes 15/marzo; 11:00-14:00 o 15:00-18:00)</li>\n",
    "        <li>Práctica 2: Visita a la cámara anecoica (martes 26/abril; 11:00-14:00 o 15:00-18:00)</li>\n",
    "        <li>Práctica 3: Diseño de silenciadores (martes 31/mayo; 11:00-14:00 o 15:00-18:00)</li>\n",
    "        <li>Práctica 4: Casos prácticos (martes 7/junio; 11:00-14:00 o 15:00-18:00)</li>\n",
    "</ul>\n",
    "<center>\n",
    "<img src=\"https://hcliment.webs.upv.es/docencia/dar/figs/tema00/Planificacion2022.jpg\" style=\"width:50%;padding:2%;\">\n",
    "</center>"
   ]
  },
  {
   "cell_type": "markdown",
   "metadata": {
    "id": "xx8CEPPOJi8x",
    "slideshow": {
     "slide_type": "slide"
    }
   },
   "source": [
    "<h2>FAQs</h2>"
   ]
  },
  {
   "cell_type": "markdown",
   "metadata": {
    "id": "j6VN965-Ji8y",
    "slideshow": {
     "slide_type": "slide"
    }
   },
   "source": [
    "<h3>¿Qué voy a aprender?</h3>\n",
    "<ul>\n",
    "    <li>En diez palabras: \"identificar fallos en máquinas a partir del ruido que hacen\"</li>\n",
    "</ul>"
   ]
  },
  {
   "cell_type": "markdown",
   "metadata": {
    "id": "ctxuNgcVJi8z",
    "slideshow": {
     "slide_type": "slide"
    }
   },
   "source": [
    "<h3>¿Qué voy a necesitar?</h3>\n",
    "<ul>\n",
    "    <li>La asistencia a clase va a ayudar bastante.</li>\n",
    "    <li>Algo de interés y voluntad por aprender.</li>\n",
    "    <li>Un ordenador; en principio el del aula está bien pero si lo prefieres puedes usar uno tuyo.</li>\n",
    "    <li>Unos auriculares para conectar al ordenador.</li>\n",
    "</ul>"
   ]
  },
  {
   "cell_type": "markdown",
   "metadata": {
    "id": "CccH-39mJi8z",
    "slideshow": {
     "slide_type": "slide"
    }
   },
   "source": [
    "<h3>¿No tendrás un ejemplo de cómo ha de ser el trabajo individual?</h3>\n",
    "<ul>\n",
    "    <li>Sí, claro. Hay un ejemplo en poliformaT que puedes mirar, aunque también os lo presentaré en clase más adelante</li>\n",
    "</ul>"
   ]
  },
  {
   "cell_type": "markdown",
   "metadata": {
    "id": "NeiMekUHJi80",
    "slideshow": {
     "slide_type": "slide"
    }
   },
   "source": [
    "<h3>¿Tienes algo más de información acerca del trabajo individual?</h3>\n",
    "\n",
    "Sí, claro:\n",
    "<ul>\n",
    "    <li>Eliges una máquina que produzca ruido y lo registras con, por ejemplo, un teléfono móvil.</li>\n",
    "    <li>La idea es analizar ese ruido para identificar características relevantes sobre el funcionamiento de la máquina.</li>\n",
    "    <li>Es interesante medir la máquina en distintas condiciones de funcionamiento (estacionario, transitorio, ...).</li>\n",
    "    <li>Hacer varias medidas (de alrededor de 5 segundos) también puede ser una buena idea.</li>\n",
    "    <li>En clase veremos cómo analizar esa información.</li>\n",
    "    <li>Cuando lleguemos a los temas finales, empezaremos a dejar tiempo en clase para que avancéis y me preguntéis dudas.</li>\n",
    "    <li>Hacia final de curso tendréis que preparar una presentación de PowerPoint que presentaréis oralmente en clase.</li>\n",
    "    <li>Pensad en unos 15 minutos de duración y unos 5 minutos de turno de preguntas.</li>\n",
    "</ul>"
   ]
  },
  {
   "cell_type": "markdown",
   "metadata": {
    "id": "On0B6M5tJi80",
    "slideshow": {
     "slide_type": "slide"
    }
   },
   "source": [
    "<h3>¿Y si no tengo posibilidad de acceder a ninguna máquina que haga ruido?</h3>\n",
    "\n",
    "<p>No pasa nada. Puedes buscar audios en Internet y trabajar con ellos. Algunas páginas interesantes:</p>\n",
    "<ul>\n",
    "    <li><a href=\"https://www.freesound.org\">Freesound.org</a> : Es necesario registrarse para poder descargar los audios pero no para oírlos.</li>\n",
    "    <li><a href=\"https://www.youtube.com\">Youtube</a> : Es necesario descargar el vídeo y extraer el audio de alguna forma.</li>\n",
    "</ul>"
   ]
  },
  {
   "cell_type": "markdown",
   "metadata": {
    "id": "6CLwvO7fJi80",
    "slideshow": {
     "slide_type": "slide"
    }
   },
   "source": [
    "<h3>¿Algún caso práctico?</h3>\n",
    "<ul>\n",
    "    <li>El Instituto Fraunhofer: Institute for Digital Media Technology <a href=\"https://www.idmt.fraunhofer.de/en/business_units/ima.html\">IDMT</a></li>\n",
    "    <li>3D Signals es una start-up israelí que desarrolla <em>IoT devices</em> que \"escuchan\" a las máquinas.</li>\n",
    "</ul>"
   ]
  },
  {
   "cell_type": "code",
   "execution_count": null,
   "metadata": {
    "colab": {
     "base_uri": "https://localhost:8080/",
     "height": 321
    },
    "id": "8GWnB21qJi81",
    "outputId": "18d5a64d-8d54-4abb-dde3-f4c511548934",
    "slideshow": {
     "slide_type": "fragment"
    },
    "tags": [
     "no_imprimir"
    ]
   },
   "outputs": [
    {
     "data": {
      "image/jpeg": "[encoded data removed]",
      "text/html": [
       "\n",
       "        <iframe\n",
       "            width=\"400\"\n",
       "            height=\"300\"\n",
       "            src=\"https://www.youtube.com/embed/WSjnbrGAjUU\"\n",
       "            frameborder=\"0\"\n",
       "            allowfullscreen\n",
       "        ></iframe>\n",
       "        "
      ],
      "text/plain": [
       "<IPython.lib.display.YouTubeVideo at 0x7f8725f8b310>"
      ]
     },
     "metadata": {},
     "output_type": "display_data"
    }
   ],
   "source": [
    "# 3DSignals Listens to Factories\n",
    "vid = YouTubeVideo(\"WSjnbrGAjUU\")\n",
    "display(vid)"
   ]
  },
  {
   "cell_type": "markdown",
   "metadata": {
    "id": "9ttBN5GqJi81",
    "slideshow": {
     "slide_type": "slide"
    }
   },
   "source": [
    "<h3>No parece que estés usando Powerpoint. ¿Qué es esto?</h3>\n",
    "<ul>\n",
    "    <li>Es un Notebook de <a href=\"https://jupyter.org/\">Jupyter</a>. De su página web: \"The Jupyter Notebook is an open-source web application that allows you to create and share documents that contain live code, equations, visualizations and narrative text. Uses include: data cleaning and transformation, numerical simulation, statistical modeling, data visualization, machine learning, and much more.\"</li>\n",
    "    <li>Uno de los lenguajes de programación que se pueden usar en el Notebook es <a href=\"https://www.python.org/\">python</a>. De su página web: \"Python is a programming language that lets you work quickly and integrate systems more effectively.\".</li>\n",
    "</ul>"
   ]
  },
  {
   "cell_type": "markdown",
   "metadata": {
    "id": "wzOp9DALJi81",
    "slideshow": {
     "slide_type": "slide"
    }
   },
   "source": [
    "<h3>¿Tengo que estar asustado?</h3>\n",
    "<ul>\n",
    "    <li>No. De verdad.</li>\n",
    "</ul>\n",
    "<h3>¿Has usado siempre esto?</h3>\n",
    "<ul>\n",
    "    <li>No. Empecé con Powerpoint + Matlab. Este es el tercer año seguido con Jupyter Notebook. Que continúe o no dependerá de vuestro feedback.</li>\n",
    "</ul>\n",
    "<h3>Controlo Matlab, ¿puedo hacer mis ejercicios y trabajo individual con Matlab?</h3>\n",
    "<ul>\n",
    "    <li>Sí, claro. Las herramientas están para ayudarnos a realizar tareas. Si: (i) la misma tarea se puede hacer con dos herramientas, y (ii) una de ellas ya la conoces, no tengo ningún inconveniente en que la uses.</li>\n",
    "</ul>"
   ]
  },
  {
   "cell_type": "markdown",
   "metadata": {
    "id": "DOEKfr8lJi82",
    "slideshow": {
     "slide_type": "slide"
    },
    "tags": [
     "no_imprimir"
    ]
   },
   "source": [
    "<h3>¿Qué dicen otros compañeros que han pasado por aquí?</h3>\n",
    "<ul>\n",
    "    <li>Hemos ido mejorando; pero aún se puede hacer mejor.</li>\n",
    "    <li>Encuestas al alumnado (2019):</li>\n",
    "    <img src=\"https://hcliment.webs.upv.es/docencia/dar/figs/tema00/Encuesta2019MetodologiaAprendizaje.jpg\" style=\"width:50%;padding:0%;\">\n",
    "    <li>Encuestas al alumnado (2020):</li>\n",
    "    <img src=\"https://hcliment.webs.upv.es/docencia/dar/figs/tema00/Encuesta2020MetodologiaAprendizaje.jpg\" style=\"width:50%;padding:0%;\">\n",
    "    <li>Encuestas al alumnado (2021):</li>\n",
    "    <img src=\"https://hcliment.webs.upv.es/docencia/dar/figs/tema00/Encuesta2021MetodologiaAprendizaje.jpg\" style=\"width:50%;padding:0%;\">\n",
    "</ul>"
   ]
  },
  {
   "cell_type": "markdown",
   "metadata": {
    "id": "1lAdDf19Ji82",
    "slideshow": {
     "slide_type": "slide"
    },
    "tags": [
     "no_imprimir"
    ]
   },
   "source": [
    "<h3>¿Te puedo decir cosas sobre el funcionamiento de las clases?</h3>\n",
    "<ul>\n",
    "    <li>Me encantaría. Y mejor si no te esperas al final: así, puedo ir corrigiendo desde el primer momento.</li>\n",
    "    <li>Encuestas al alumnado (2019):</li>\n",
    "    <img src=\"https://hcliment.webs.upv.es/docencia/dar/figs/tema00/Encuesta2019BuenClima.jpg\" style=\"width:50%;padding:0%;\">\n",
    "    <li>Encuestas al alumnado (2020):</li>\n",
    "    <img src=\"https://hcliment.webs.upv.es/docencia/dar/figs/tema00/Encuesta2020BuenClima.jpg\" style=\"width:50%;padding:0%;\">\n",
    "    <li>Encuestas al alumnado (2021):</li>\n",
    "    <img src=\"https://hcliment.webs.upv.es/docencia/dar/figs/tema00/Encuesta2021BuenClima.jpg\" style=\"width:50%;padding:0%;\">\n",
    "</ul>"
   ]
  },
  {
   "cell_type": "markdown",
   "metadata": {
    "id": "2z_x-e9zJi82",
    "slideshow": {
     "slide_type": "slide"
    }
   },
   "source": [
    "<h3>¿Voy a tener las transparencias de clase?</h3>\n",
    "<ul>\n",
    "    <li>Sí, claro. Estarán disponibles la semana que viene en poliformaT.</li>\n",
    "</ul>"
   ]
  },
  {
   "cell_type": "markdown",
   "metadata": {
    "id": "d4SDnqrmJi83",
    "slideshow": {
     "slide_type": "slide"
    }
   },
   "source": [
    "<h3>¿Qué es eso de las competencias transversales?</h3>\n",
    "<ul>\n",
    "    <li><a href=\"http://www.upv.es/contenidos/COMPTRAN/\">Aquí</a> lo explican muy bien.</li>\n",
    "</ul>\n",
    "<h3>¿Qué competencia transversal se evalúa en esta asignatura?</h3>\n",
    "<ul>\n",
    "    <li><a href=\"http://www.upv.es/contenidos/COMPTRAN/info/955128normalc.html\">Comunicación efectiva</a>.</li>\n",
    "</ul>\n",
    "<h3>¿Cómo la evalúas?</h3>\n",
    "<ul>\n",
    "    <li>A partir de las memorias de prácticas (expresión escrita) y la exposición del trabajo individual (expresión oral).</li>\n",
    "</ul>"
   ]
  },
  {
   "cell_type": "markdown",
   "metadata": {
    "id": "kZkuBF2WJi83",
    "slideshow": {
     "slide_type": "slide"
    }
   },
   "source": [
    "<p style='text-align: center; font-weight:bold'>Fin del tema</p>"
   ]
  }
 ],
 "metadata": {
  "celltoolbar": "Slideshow",
  "colab": {
   "collapsed_sections": [],
   "name": "Tema00_PresentacionAsignatura.ipynb",
   "provenance": []
  },
  "kernelspec": {
   "display_name": "Python 3 (ipykernel)",
   "language": "python",
   "name": "python3"
  },
  "language_info": {
   "codemirror_mode": {
    "name": "ipython",
    "version": 3
   },
   "file_extension": ".py",
   "mimetype": "text/x-python",
   "name": "python",
   "nbconvert_exporter": "python",
   "pygments_lexer": "ipython3",
   "version": "3.10.2"
  },
  "livereveal": {
   "scroll": true
  },
  "rise": {
   "enable_chalkboard": true,
   "theme": "estilos",
   "transition": "zoom"
  }
 },
 "nbformat": 4,
 "nbformat_minor": 1
}
